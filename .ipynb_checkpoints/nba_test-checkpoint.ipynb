{
 "cells": [
  {
   "cell_type": "code",
   "execution_count": 95,
   "id": "35f378b3-c12c-477f-a100-b8af63e9665a",
   "metadata": {},
   "outputs": [
    {
     "name": "stdout",
     "output_type": "stream",
     "text": [
      "The autoreload extension is already loaded. To reload it, use:\n",
      "  %reload_ext autoreload\n"
     ]
    }
   ],
   "source": [
    "%load_ext autoreload\n",
    "%autoreload 2"
   ]
  },
  {
   "cell_type": "code",
   "execution_count": 96,
   "id": "89727df8-4389-4262-b8b8-3ae79b0dd18c",
   "metadata": {},
   "outputs": [],
   "source": [
    "import numpy as np\n",
    "import pandas as pd\n",
    "from elo import Elo\n",
    "import time\n",
    "from glicko import Glicko\n",
    "from glicko2 import Glicko2"
   ]
  },
  {
   "cell_type": "code",
   "execution_count": 97,
   "id": "55c2b1ce-23e8-4c29-ae77-56ad63774c2f",
   "metadata": {},
   "outputs": [],
   "source": [
    "matches = pd.read_csv(\"Games.csv\", usecols=range(0, 10))\n",
    "matches = matches[matches[\"gameId\"].between(21600000, 21800000)]\n",
    "matches[\"hometeamId\"] -= 1610612737\n",
    "matches[\"awayteamId\"] -= 1610612737\n",
    "matches = matches.iloc[::-1]\n",
    "id1 = matches[\"hometeamId\"].to_numpy()\n",
    "id2 = matches[\"awayteamId\"].to_numpy()\n",
    "outcomes = matches[\"homeScore\"].to_numpy() > matches[\"awayScore\"].to_numpy()\n",
    "names = np.array([\n",
    "    \"Atlanta Hawks\", \"Boston Celtics\", \"Cleveland Cavaliers\", \"New Orleans Pelicans\", \"Chicago Bulls\", \"Dallas Mavericks\", \"Denver Nuggets\", \n",
    "    \"Golden State Warriors\", \"Houston Rockets\", \"Los Angeles Clippers\", \"Los Angeles Lakers\", \"Miami Heat\", \"Milwaukee Bucks\", \n",
    "    \"Minnesota Timberwolves\", \"Brooklyn Nets\", \"New York Knicks\", \"Orlando Magic\", \"Indiana Pacers\", \"Philadelphia 76ers\", \n",
    "    \"Phoenix Suns\", \"Portland Trail Blazers\", \"Sacramento Kings\", \"San Antonio Spurs\", \"Oklahoma City Thunder\", \"Toronto Raptors\", \n",
    "    \"Utah Jazz\", \"Memphis Grizzlies\", \"Washington Wizards\", \"Detroit Pistons\", \"Charlotte Hornets\"\n",
    "])"
   ]
  },
  {
   "cell_type": "code",
   "execution_count": 98,
   "id": "6a874948-6e67-42d6-96d3-1b5bfb3855a7",
   "metadata": {},
   "outputs": [
    {
     "name": "stdout",
     "output_type": "stream",
     "text": [
      "         gameId             gameDate  hometeamCity   hometeamName  hometeamId  \\\n",
      "12071  21600001  2016-10-25 19:30:00     Cleveland      Cavaliers           2   \n",
      "12070  21600002  2016-10-25 22:00:00      Portland  Trail Blazers          20   \n",
      "12069  21600003  2016-10-25 22:30:00  Golden State       Warriors           7   \n",
      "12068  21600005  2016-10-26 19:00:00       Indiana         Pacers          17   \n",
      "12067  21600004  2016-10-26 19:00:00       Orlando          Magic          16   \n",
      "...         ...                  ...           ...            ...         ...   \n",
      "9467   21701220  2018-04-11 20:00:00     Cleveland      Cavaliers           2   \n",
      "9466   21701219  2018-04-11 20:00:00        Boston        Celtics           1   \n",
      "9465   21701230  2018-04-11 22:30:00    Sacramento          Kings          21   \n",
      "9464   21701229  2018-04-11 22:30:00      Portland  Trail Blazers          20   \n",
      "9463   21701228  2018-04-11 22:30:00   Los Angeles       Clippers           9   \n",
      "\n",
      "      awayteamCity awayteamName  awayteamId  homeScore  awayScore  \n",
      "12071     New York       Knicks          15        117         88  \n",
      "12070         Utah         Jazz          25        113        104  \n",
      "12069  San Antonio        Spurs          22        100        129  \n",
      "12068       Dallas    Mavericks           5        130        121  \n",
      "12067        Miami         Heat          11         96        108  \n",
      "...            ...          ...         ...        ...        ...  \n",
      "9467      New York       Knicks          15         98        110  \n",
      "9466      Brooklyn         Nets          14        110         97  \n",
      "9465       Houston      Rockets           8         96         83  \n",
      "9464          Utah         Jazz          25        102         93  \n",
      "9463   Los Angeles       Lakers          10        100        115  \n",
      "\n",
      "[2460 rows x 10 columns]\n"
     ]
    }
   ],
   "source": [
    "print(matches)\n",
    "# target = \"Atlanta\"\n",
    "# total_count = matches[\"hometeamCity\"].str.count(rf'\\b{target}\\b').sum()\n",
    "# total_count += matches[\"awayteamCity\"].str.count(rf'\\b{target}\\b').sum()\n",
    "# print(total_count)"
   ]
  },
  {
   "cell_type": "code",
   "execution_count": 99,
   "id": "09a3562a-ebd0-4eb0-879d-6d6623eea673",
   "metadata": {},
   "outputs": [
    {
     "data": {
      "text/plain": [
       "array([ 2, 20,  7, ..., 21, 20,  9], shape=(2460,))"
      ]
     },
     "execution_count": 99,
     "metadata": {},
     "output_type": "execute_result"
    }
   ],
   "source": [
    "id1"
   ]
  },
  {
   "cell_type": "code",
   "execution_count": 100,
   "id": "725e942c-033b-4d84-9561-9df04dd50f80",
   "metadata": {},
   "outputs": [
    {
     "data": {
      "text/plain": [
       "array([15, 25, 22, ...,  8, 25, 10], shape=(2460,))"
      ]
     },
     "execution_count": 100,
     "metadata": {},
     "output_type": "execute_result"
    }
   ],
   "source": [
    "id2"
   ]
  },
  {
   "cell_type": "code",
   "execution_count": 101,
   "id": "3087e729-a4a1-45e7-b907-f48ebcfaf03a",
   "metadata": {},
   "outputs": [
    {
     "data": {
      "text/plain": [
       "array([ True,  True, False, ...,  True,  True, False], shape=(2460,))"
      ]
     },
     "execution_count": 101,
     "metadata": {},
     "output_type": "execute_result"
    }
   ],
   "source": [
    "outcomes"
   ]
  },
  {
   "cell_type": "code",
   "execution_count": 102,
   "id": "9a38eb3c-e971-4b6f-9e41-b63b2214dc03",
   "metadata": {},
   "outputs": [
    {
     "name": "stdout",
     "output_type": "stream",
     "text": [
      "--- 0.17606401443481445 seconds ---\n"
     ]
    }
   ],
   "source": [
    "start_time = time.time()\n",
    "\n",
    "num_players = 30\n",
    "init_rating = np.full(num_players, 1500, dtype=np.float32)\n",
    "init_rd = np.full(num_players, 350, dtype=np.float32)\n",
    "init_vol = np.full(num_players, 0.3, dtype=np.float32)\n",
    "\n",
    "team_wins = np.zeros(num_players)\n",
    "team_losses = np.zeros(num_players)\n",
    "team_wr = np.zeros(num_players)\n",
    "\n",
    "# elo, instant glicko1,2, period glicko1,2\n",
    "elo = Elo(num_players, init_rating, rating_const=32)\n",
    "glicko = Glicko(num_players, init_rating, None, init_rd)\n",
    "glicko2 = Glicko2(num_players, init_rating, None, init_rd, init_vol, 1.2)\n",
    "glicko_instant = Glicko(num_players, init_rating, None, init_rd)\n",
    "glicko2_instant = Glicko2(num_players, init_rating, None, init_rd, init_vol, 1.2)\n",
    "\n",
    "elo_acc = glicko_acc = glicko2_acc = glicko_instant_acc = glicko2_instant_acc = control_acc_wr = control_acc_win = control_acc_home = 0\n",
    "num_periods = 13\n",
    "id1_period, id2_period, outcomes_period = np.array_split(id1, num_periods), np.array_split(id2, num_periods), np.array_split(outcomes, num_periods)\n",
    "j=0\n",
    "length = 0\n",
    "count=0\n",
    "\n",
    "for i in range(len(id1)):\n",
    "    if i % 1230 == 0:\n",
    "        team_wins = np.zeros(num_players)\n",
    "        team_losses = np.zeros(num_players)\n",
    "        team_wr = np.zeros(num_players)\n",
    "    if 1230 < i < 10000:\n",
    "        if (elo.ratings[id1[i]] >= elo.ratings[id2[i]] and outcomes[i]) or (elo.ratings[id1[i]] < elo.ratings[id2[i]] and not outcomes[i]):\n",
    "            elo_acc += 1\n",
    "        if (glicko.ratings[id1[i]] >= glicko.ratings[id2[i]] and outcomes[i]) or (glicko.ratings[id1[i]] < glicko.ratings[id2[i]] and not outcomes[i]):\n",
    "            glicko_acc += 1\n",
    "        if (glicko2.ratings[id1[i]] >= glicko2.ratings[id2[i]] and outcomes[i]) or (glicko2.ratings[id1[i]] < glicko2.ratings[id2[i]] and not outcomes[i]):\n",
    "            glicko2_acc += 1\n",
    "        if (team_wr[id1[i]] >= team_wr[id2[i]] and outcomes[i]) or (team_wr[id1[i]] < team_wr[id2[i]] and not outcomes[i]):\n",
    "            control_acc_wr += 1\n",
    "        if (team_wins[id1[i]] >= team_wins[id2[i]] and outcomes[i]) or (team_wins[id1[i]] < team_wins[id2[i]] and not outcomes[i]):\n",
    "            control_acc_win += 1\n",
    "        if (glicko_instant.ratings[id1[i]] >= glicko_instant.ratings[id2[i]] and outcomes[i]) or (glicko_instant.ratings[id1[i]] < glicko_instant.ratings[id2[i]] and not outcomes[i]):\n",
    "            glicko_instant_acc += 1\n",
    "        if (glicko2_instant.ratings[id1[i]] >= glicko2_instant.ratings[id2[i]] and outcomes[i]) or (glicko2_instant.ratings[id1[i]] < glicko2_instant.ratings[id2[i]] and not outcomes[i]):\n",
    "            glicko2_instant_acc += 1\n",
    "        if outcomes[i]:\n",
    "            control_acc_home += 1\n",
    "        count+=1\n",
    "    \n",
    "    elo.update(id1[i], id2[i], outcomes[i])\n",
    "    if i+1 == length + len(id1_period[j]):\n",
    "        glicko2.update_period(id1_period[j], id2_period[j], outcomes_period[j])\n",
    "        glicko.update_period(id1_period[j], id2_period[j], outcomes_period[j])\n",
    "        length += len(id1_period[j])\n",
    "        j+=1\n",
    "    glicko_instant.update_instant(id1[i], id2[i], outcomes[i])\n",
    "    glicko2_instant.update_instant(id1[i], id2[i], outcomes[i])\n",
    "    if outcomes[i]:\n",
    "        team_wins[id1[i]] += 1\n",
    "        team_losses[id2[i]] += 1\n",
    "    else:\n",
    "        team_wins[id2[i]] += 1\n",
    "        team_losses[id1[i]] += 1\n",
    "    team_wr[id1[i]] = team_wins[id1[i]] / team_losses[id1[i]] if team_losses[id1[i]] != 0 else 1\n",
    "    team_wr[id2[i]] = team_wins[id2[i]] / team_losses[id2[i]] if team_losses[id2[i]] != 0 else 1\n",
    "        \n",
    "# for i in range(len(id1_period)):\n",
    "#     glicko2.update_period(id1_period[i], id2_period[i], outcomes_period[i])\n",
    "#     glicko.update_period(id1_period[i], id2_period[i], outcomes_period[i])\n",
    "   \n",
    "print(\"--- %s seconds ---\" % (time.time() - start_time))\n"
   ]
  },
  {
   "cell_type": "code",
   "execution_count": 103,
   "id": "64c4d2a6-03db-49ee-89c7-69c68c6a465c",
   "metadata": {},
   "outputs": [],
   "source": [
    "elo_acc = elo_acc / count * 100\n",
    "glicko_acc = glicko_acc / count * 100\n",
    "glicko2_acc = glicko2_acc / count * 100\n",
    "glicko_instant_acc = glicko_instant_acc / count * 100\n",
    "glicko2_instant_acc = glicko2_instant_acc / count * 100\n",
    "control_acc_wr = control_acc_wr / count * 100\n",
    "control_acc_win = control_acc_win / count * 100\n",
    "control_acc_home = control_acc_home / count * 100"
   ]
  },
  {
   "cell_type": "code",
   "execution_count": 105,
   "id": "e3585265-056d-49d2-b47d-15e6facf2036",
   "metadata": {},
   "outputs": [
    {
     "name": "stdout",
     "output_type": "stream",
     "text": [
      "ID Name                     Rating     RD      Volatility\n",
      "0  Atlanta Hawks            1377.55    77.66     0.3724699      Houston Rockets          1791.17    104.03    0.6626082      \n",
      "1  Boston Celtics           1612.64    67.70     0.2902140      Philadelphia 76ers       1782.04    94.69     1.1428126      \n",
      "2  Cleveland Cavaliers      1620.17    78.66     0.5024893      Utah Jazz                1676.24    71.85     0.3463907      \n",
      "3  New Orleans Pelicans     1633.51    65.05     0.2867815      Toronto Raptors          1650.01    70.52     0.3125095      \n",
      "4  Chicago Bulls            1349.54    63.41     0.2726153      New Orleans Pelicans     1633.51    65.05     0.2867815      \n",
      "5  Dallas Mavericks         1320.18    68.64     0.3018067      Portland Trail Blazers   1629.86    75.95     0.4266621      \n",
      "6  Denver Nuggets           1602.67    61.68     0.2552933      Cleveland Cavaliers      1620.17    78.66     0.5024893      \n",
      "7  Golden State Warriors    1586.57    70.70     0.3037704      Boston Celtics           1612.64    67.70     0.2902140      \n",
      "8  Houston Rockets          1791.17    104.03    0.6626082      Oklahoma City Thunder    1609.11    62.56     0.2408567      \n",
      "9  Los Angeles Clippers     1510.09    82.36     0.6808056      Indiana Pacers           1608.54    59.25     0.2286180      \n",
      "10 Los Angeles Lakers       1449.58    80.39     0.5488142      Denver Nuggets           1602.67    61.68     0.2552933      \n",
      "11 Miami Heat               1533.36    89.06     0.6775475      Golden State Warriors    1586.57    70.70     0.3037704      \n",
      "12 Milwaukee Bucks          1529.24    66.93     0.3146886      San Antonio Spurs        1579.82    65.10     0.2753942      \n",
      "13 Minnesota Timberwolves   1552.11    63.71     0.2474131      Minnesota Timberwolves   1552.11    63.71     0.2474131      \n",
      "14 Brooklyn Nets            1396.91    66.00     0.2682725      Miami Heat               1533.36    89.06     0.6775475      \n",
      "15 New York Knicks          1336.58    70.54     0.3063185      Milwaukee Bucks          1529.24    66.93     0.3146886      \n",
      "16 Orlando Magic            1334.80    62.63     0.2330423      Los Angeles Clippers     1510.09    82.36     0.6808056      \n",
      "17 Indiana Pacers           1608.54    59.25     0.2286180      Detroit Pistons          1482.82    66.65     0.3154447      \n",
      "18 Philadelphia 76ers       1782.04    94.69     1.1428126      Washington Wizards       1463.84    68.02     0.3356006      \n",
      "19 Phoenix Suns             1258.55    69.57     0.2627722      Charlotte Hornets        1458.86    61.17     0.2434429      \n",
      "20 Portland Trail Blazers   1629.86    75.95     0.4266621      Los Angeles Lakers       1449.58    80.39     0.5488142      \n",
      "21 Sacramento Kings         1382.64    62.84     0.2383129      Brooklyn Nets            1396.91    66.00     0.2682725      \n",
      "22 San Antonio Spurs        1579.82    65.10     0.2753942      Sacramento Kings         1382.64    62.84     0.2383129      \n",
      "23 Oklahoma City Thunder    1609.11    62.56     0.2408567      Atlanta Hawks            1377.55    77.66     0.3724699      \n",
      "24 Toronto Raptors          1650.01    70.52     0.3125095      Chicago Bulls            1349.54    63.41     0.2726153      \n",
      "25 Utah Jazz                1676.24    71.85     0.3463907      New York Knicks          1336.58    70.54     0.3063185      \n",
      "26 Memphis Grizzlies        1289.59    72.58     0.3272944      Orlando Magic            1334.80    62.63     0.2330423      \n",
      "27 Washington Wizards       1463.84    68.02     0.3356006      Dallas Mavericks         1320.18    68.64     0.3018067      \n",
      "28 Detroit Pistons          1482.82    66.65     0.3154447      Memphis Grizzlies        1289.59    72.58     0.3272944      \n",
      "29 Charlotte Hornets        1458.86    61.17     0.2434429      Phoenix Suns             1258.55    69.57     0.2627722      \n",
      "Elo Accuracy: 62.73393002441009\n",
      "Glicko (Period) Accuracy: 62.571196094385684\n",
      "Glicko2 (Period) Accuracy: 62.24572823433686\n",
      "Glicko (Instant) Accuracy: 62.489829129373476\n",
      "Glicko2 (Instant) Accuracy: 61.26932465419039\n",
      "Control Win Rate Accuracy: 63.87306753458096\n",
      "Control Wins Accuracy: 63.384865744507735\n",
      "Control Home Team Accuracy: 57.851912123677785\n",
      "2460\n"
     ]
    }
   ],
   "source": [
    "# print(\"Elo\")\n",
    "# elo.print_nba_data(names)\n",
    "# print(\"Glicko (Period)\")\n",
    "# glicko.print_nba_data(names)\n",
    "# print(\"Glicko2 (Period)\")\n",
    "# glicko2.print_nba_data(names)\n",
    "# print(\"Glicko (Instant)\")\n",
    "# glicko_instant.print_nba_data(names)\n",
    "# print(\"Glicko2 (Instant)\")\n",
    "# glicko2_instant.print_nba_data(names)\n",
    "\n",
    "print(f\"Elo Accuracy: {elo_acc}\")\n",
    "print(f\"Glicko (Period) Accuracy: {glicko_acc}\")\n",
    "print(f\"Glicko2 (Period) Accuracy: {glicko2_acc}\")\n",
    "print(f\"Glicko (Instant) Accuracy: {glicko_instant_acc}\")\n",
    "print(f\"Glicko2 (Instant) Accuracy: {glicko2_instant_acc}\")\n",
    "print(f\"Control Win Rate Accuracy: {control_acc_wr}\")\n",
    "print(f\"Control Wins Accuracy: {control_acc_win}\")\n",
    "print(f\"Control Home Team Accuracy: {control_acc_home}\")\n",
    "print(len(id1))"
   ]
  },
  {
   "cell_type": "code",
   "execution_count": null,
   "id": "db9e4789-f31c-464d-8615-5a91797f68a2",
   "metadata": {},
   "outputs": [],
   "source": []
  }
 ],
 "metadata": {
  "kernelspec": {
   "display_name": "Python 3 (ipykernel)",
   "language": "python",
   "name": "python3"
  },
  "language_info": {
   "codemirror_mode": {
    "name": "ipython",
    "version": 3
   },
   "file_extension": ".py",
   "mimetype": "text/x-python",
   "name": "python",
   "nbconvert_exporter": "python",
   "pygments_lexer": "ipython3",
   "version": "3.11.9"
  }
 },
 "nbformat": 4,
 "nbformat_minor": 5
}
